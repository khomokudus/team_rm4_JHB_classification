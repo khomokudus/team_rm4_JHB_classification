{
 "cells": [
  {
   "cell_type": "markdown",
   "metadata": {},
   "source": [
    "# Introduction\n",
    "\n",
    "## Context\n",
    "\n",
    "Kaggle is hosting a **Climate Change Belief Analysis** competition which aims to predict an individual's belief in climate change based on historical tweet data.\n",
    "\n",
    "The results from the prediction will help companies better understand their customer's perception on climate change. Such an analysis or prediction will help companies determine how their products will be recieved; thus guiding their marketing strategy and their production processes.\n",
    "\n",
    "\n",
    "## Problem Statement\n",
    "\n",
    "Companies are looking to create products and services that are environmentally friendly. They would thus like to understand their consumers' view on climate change. To address this, we are going to create Machine Learning models that are able to classify whether or not a person believes in climate change, based on their novel tweet data. Correct classification of a tweet will help companies understand consumer sentiment, which will further guide their business strategies.\n",
    "\n",
    "\n",
    "## Data Sets\n",
    "\n",
    "The data sets provided by host of the competition provide us with a message (tweet) and the tweet id. The tweets are related to the topic of climate change. \n",
    "\n",
    "The data sets used in the notebook:\n",
    "    - train.csv : data used to train models; loaded as train_data in our notebook.\n",
    "    - test.csv : data used to test the models; loaded as test_data in our notebook.\n",
    "    \n",
    "The train.csv data sis composed of 15819 tweets whilst the test.csv is composed of 10546 tweets. Below we go through the data sets to try and understand its composition further."
   ]
  },
  {
   "cell_type": "markdown",
   "metadata": {},
   "source": [
    "# Data Exploration\n",
    "## Import packages and load data files\n",
    "###### task: import and load data\n",
    "We start off by importing packages and loading data"
   ]
  },
  {
   "cell_type": "code",
   "execution_count": 3,
   "metadata": {},
   "outputs": [],
   "source": [
    "# !pip install spacy"
   ]
  },
  {
   "cell_type": "code",
   "execution_count": 5,
   "metadata": {},
   "outputs": [],
   "source": [
    "# import packages\n",
    "import pandas as pd\n",
    "import numpy as np\n",
    "\n",
    "import matplotlib.pyplot as plt\n",
    "import seaborn as sns\n",
    "%matplotlib inline\n",
    "sns.set_style('darkgrid')\n",
    "\n",
    "import re\n",
    "import string\n",
    "import spacy\n",
    "import nltk\n",
    "from spacy import displacy\n",
    "from nltk.corpus import stopwords\n",
    "\n",
    "nlp = spacy.load('en_core_web_md')\n",
    "stop_words = stopwords.words('english')\n",
    "\n",
    "import warnings\n",
    "warnings.filterwarnings(\"ignore\")"
   ]
  },
  {
   "cell_type": "code",
   "execution_count": 6,
   "metadata": {},
   "outputs": [],
   "source": [
    "# Load Data\n",
    "train_data = pd.read_csv('https://raw.githubusercontent.com/team-rm4-JHB-classificationpredict/team_rm4_JHB_classification/master/predict_deliverables/data/train.csv',index_col='tweetid')\n",
    "test_data = pd.read_csv('https://raw.githubusercontent.com/team-rm4-JHB-classificationpredict/team_rm4_JHB_classification/master/predict_deliverables/data/test.csv',index_col='tweetid')"
   ]
  },
  {
   "cell_type": "markdown",
   "metadata": {},
   "source": [
    "## Variable Descriptions\n",
    "\n",
    "- **sentiment**: Sentiment of tweet (pro, anti, neutral,news).\n",
    "\n",
    "- **message**: Tweet body (raw tweet).\n",
    "\n",
    "- **tweetid**: Twitter unique id (unique integer).\n",
    "\n",
    "## Target Variable (sentiment)\n",
    "-  **1 : Pro** --> the tweet supports the belief of a man-made climate change.\n",
    "-  **2 : News** --> the tweet links to factual news about climate change.\n",
    "-  **0 : Neutral** --> the tweet neither supports nor refutes the belief of a man-made climate change.\n",
    "- **-1 : Anti** --> the tweet does not believe in a man made climate change\n",
    "\n",
    "###### task: display the shape of the data sets\n",
    "Here we display the shape of both the test and the train data to get an understanding of the features in the data sets. Below, we can see that the train data has 15819 rows of tweets and 2 columns. The columns would be the sentiment as well as the message. However, the test data only has one column (message). From the models that will be trained, we should be able to create a sentiment column for the test data too. The entries for this column will be predicted from the train data."
   ]
  },
  {
   "cell_type": "code",
   "execution_count": 14,
   "metadata": {},
   "outputs": [
    {
     "name": "stdout",
     "output_type": "stream",
     "text": [
      "Train data shape:\t(15819, 2)\n",
      "Test data shape:\t(10546, 1)\n"
     ]
    }
   ],
   "source": [
    "print(f'Train data shape:\\t{train_data.shape}\\nTest data shape:\\t{test_data.shape}')"
   ]
  },
  {
   "cell_type": "markdown",
   "metadata": {},
   "source": [
    "###### task: Display the number of entries per category in the sentiment column\n",
    "This is done to try and understand the distribution of entries in the sentiment column. Given that this is our target variable (sentiment), it is important that the data is somewhat balanced to avoid bias towards the categories with higher entries. That is, to reduce the likelihood that predictions will classify tweets as the category with the most entries.\n",
    "\n",
    "Below we have created a dataframe that shows the number of entries per category and the percentage of those entries as a faction of the total entries."
   ]
  },
  {
   "cell_type": "code",
   "execution_count": 61,
   "metadata": {},
   "outputs": [
    {
     "data": {
      "text/html": [
       "<div>\n",
       "<style scoped>\n",
       "    .dataframe tbody tr th:only-of-type {\n",
       "        vertical-align: middle;\n",
       "    }\n",
       "\n",
       "    .dataframe tbody tr th {\n",
       "        vertical-align: top;\n",
       "    }\n",
       "\n",
       "    .dataframe thead th {\n",
       "        text-align: right;\n",
       "    }\n",
       "</style>\n",
       "<table border=\"1\" class=\"dataframe\">\n",
       "  <thead>\n",
       "    <tr style=\"text-align: right;\">\n",
       "      <th></th>\n",
       "      <th>no_of_entries</th>\n",
       "      <th>percentage</th>\n",
       "    </tr>\n",
       "    <tr>\n",
       "      <th>categories</th>\n",
       "      <th></th>\n",
       "      <th></th>\n",
       "    </tr>\n",
       "  </thead>\n",
       "  <tbody>\n",
       "    <tr>\n",
       "      <th>1</th>\n",
       "      <td>8530</td>\n",
       "      <td>0.54</td>\n",
       "    </tr>\n",
       "    <tr>\n",
       "      <th>2</th>\n",
       "      <td>3640</td>\n",
       "      <td>0.23</td>\n",
       "    </tr>\n",
       "    <tr>\n",
       "      <th>0</th>\n",
       "      <td>2353</td>\n",
       "      <td>0.15</td>\n",
       "    </tr>\n",
       "    <tr>\n",
       "      <th>-1</th>\n",
       "      <td>1296</td>\n",
       "      <td>0.08</td>\n",
       "    </tr>\n",
       "  </tbody>\n",
       "</table>\n",
       "</div>"
      ],
      "text/plain": [
       "            no_of_entries  percentage\n",
       "categories                           \n",
       " 1                   8530        0.54\n",
       " 2                   3640        0.23\n",
       " 0                   2353        0.15\n",
       "-1                   1296        0.08"
      ]
     },
     "execution_count": 61,
     "metadata": {},
     "output_type": "execute_result"
    }
   ],
   "source": [
    "# count the entries per column and save them in a dataframe\n",
    "categories = train_data['sentiment'].value_counts().to_frame()\n",
    "categories.index.rename('categories',inplace=True)\n",
    "categories.rename({'sentiment':'no_of_entries'},axis=1,inplace=True)\n",
    "categories['percentage'] = [round(count/len(train_data),2) for count in categories['no_of_entries']]\n",
    "categories"
   ]
  },
  {
   "cell_type": "code",
   "execution_count": 66,
   "metadata": {},
   "outputs": [
    {
     "data": {
      "image/png": "[encoded data removed]",
      "text/plain": [
       "<Figure size 576x360 with 1 Axes>"
      ]
     },
     "metadata": {},
     "output_type": "display_data"
    }
   ],
   "source": [
    "# plot a bar chart which shows the distribution of the entries\n",
    "plt.figure(figsize=(8,5))\n",
    "\n",
    "plt.bar(x=['1','2','0','-1'],height=categories['no_of_entries'])\n",
    "plt.title('Number of entries per category')\n",
    "plt.xlabel('Categories')\n",
    "plt.ylabel('Number of entries')\n",
    "plt.show()\n",
    "#del categories"
   ]
  },
  {
   "cell_type": "markdown",
   "metadata": {},
   "source": [
    "As it can be seen above, the sentiment belonging to category 1 (Pro climate change belief) is significantly higher than the other categories. In comparison to category -1 (Anti climate change belief), if a model were to be trained with this two categories only, the model not be a good classifier as it would penalise the smaller category by predicting category 1 more often. In the data processing section of this notebook, we will look into methods like resampling to try and balance the distribution of the entries."
   ]
  },
  {
   "cell_type": "markdown",
   "metadata": {},
   "source": [
    "###### task: display the head of both the test and train data"
   ]
  },
  {
   "cell_type": "code",
   "execution_count": 12,
   "metadata": {},
   "outputs": [
    {
     "data": {
      "text/html": [
       "<div>\n",
       "<style scoped>\n",
       "    .dataframe tbody tr th:only-of-type {\n",
       "        vertical-align: middle;\n",
       "    }\n",
       "\n",
       "    .dataframe tbody tr th {\n",
       "        vertical-align: top;\n",
       "    }\n",
       "\n",
       "    .dataframe thead th {\n",
       "        text-align: right;\n",
       "    }\n",
       "</style>\n",
       "<table border=\"1\" class=\"dataframe\">\n",
       "  <thead>\n",
       "    <tr style=\"text-align: right;\">\n",
       "      <th></th>\n",
       "      <th>sentiment</th>\n",
       "      <th>message</th>\n",
       "    </tr>\n",
       "    <tr>\n",
       "      <th>tweetid</th>\n",
       "      <th></th>\n",
       "      <th></th>\n",
       "    </tr>\n",
       "  </thead>\n",
       "  <tbody>\n",
       "    <tr>\n",
       "      <th>625221</th>\n",
       "      <td>1</td>\n",
       "      <td>PolySciMajor EPA chief doesn't think carbon di...</td>\n",
       "    </tr>\n",
       "    <tr>\n",
       "      <th>126103</th>\n",
       "      <td>1</td>\n",
       "      <td>It's not like we lack evidence of anthropogeni...</td>\n",
       "    </tr>\n",
       "    <tr>\n",
       "      <th>698562</th>\n",
       "      <td>2</td>\n",
       "      <td>RT @RawStory: Researchers say we have three ye...</td>\n",
       "    </tr>\n",
       "    <tr>\n",
       "      <th>573736</th>\n",
       "      <td>1</td>\n",
       "      <td>#TodayinMaker# WIRED : 2016 was a pivotal year...</td>\n",
       "    </tr>\n",
       "    <tr>\n",
       "      <th>466954</th>\n",
       "      <td>1</td>\n",
       "      <td>RT @SoyNovioDeTodas: It's 2016, and a racist, ...</td>\n",
       "    </tr>\n",
       "  </tbody>\n",
       "</table>\n",
       "</div>"
      ],
      "text/plain": [
       "         sentiment                                            message\n",
       "tweetid                                                              \n",
       "625221           1  PolySciMajor EPA chief doesn't think carbon di...\n",
       "126103           1  It's not like we lack evidence of anthropogeni...\n",
       "698562           2  RT @RawStory: Researchers say we have three ye...\n",
       "573736           1  #TodayinMaker# WIRED : 2016 was a pivotal year...\n",
       "466954           1  RT @SoyNovioDeTodas: It's 2016, and a racist, ..."
      ]
     },
     "execution_count": 12,
     "metadata": {},
     "output_type": "execute_result"
    }
   ],
   "source": [
    "train_data.head()"
   ]
  },
  {
   "cell_type": "code",
   "execution_count": 13,
   "metadata": {},
   "outputs": [
    {
     "data": {
      "text/html": [
       "<div>\n",
       "<style scoped>\n",
       "    .dataframe tbody tr th:only-of-type {\n",
       "        vertical-align: middle;\n",
       "    }\n",
       "\n",
       "    .dataframe tbody tr th {\n",
       "        vertical-align: top;\n",
       "    }\n",
       "\n",
       "    .dataframe thead th {\n",
       "        text-align: right;\n",
       "    }\n",
       "</style>\n",
       "<table border=\"1\" class=\"dataframe\">\n",
       "  <thead>\n",
       "    <tr style=\"text-align: right;\">\n",
       "      <th></th>\n",
       "      <th>message</th>\n",
       "    </tr>\n",
       "    <tr>\n",
       "      <th>tweetid</th>\n",
       "      <th></th>\n",
       "    </tr>\n",
       "  </thead>\n",
       "  <tbody>\n",
       "    <tr>\n",
       "      <th>169760</th>\n",
       "      <td>Europe will now be looking to China to make su...</td>\n",
       "    </tr>\n",
       "    <tr>\n",
       "      <th>35326</th>\n",
       "      <td>Combine this with the polling of staffers re c...</td>\n",
       "    </tr>\n",
       "    <tr>\n",
       "      <th>224985</th>\n",
       "      <td>The scary, unimpeachable evidence that climate...</td>\n",
       "    </tr>\n",
       "    <tr>\n",
       "      <th>476263</th>\n",
       "      <td>@Karoli @morgfair @OsborneInk @dailykos \\nPuti...</td>\n",
       "    </tr>\n",
       "    <tr>\n",
       "      <th>872928</th>\n",
       "      <td>RT @FakeWillMoore: 'Female orgasms cause globa...</td>\n",
       "    </tr>\n",
       "  </tbody>\n",
       "</table>\n",
       "</div>"
      ],
      "text/plain": [
       "                                                   message\n",
       "tweetid                                                   \n",
       "169760   Europe will now be looking to China to make su...\n",
       "35326    Combine this with the polling of staffers re c...\n",
       "224985   The scary, unimpeachable evidence that climate...\n",
       "476263   @Karoli @morgfair @OsborneInk @dailykos \\nPuti...\n",
       "872928   RT @FakeWillMoore: 'Female orgasms cause globa..."
      ]
     },
     "execution_count": 13,
     "metadata": {},
     "output_type": "execute_result"
    }
   ],
   "source": [
    "test_data.head()"
   ]
  },
  {
   "cell_type": "markdown",
   "metadata": {},
   "source": [
    "## Missing Values\n",
    "In this section we will be looking out for any missing values (i.e: np.nan values) and or all the tweets that are just empty strings.\n",
    "- In the code cell below, we can see that no column of the train data has np.nan values."
   ]
  },
  {
   "cell_type": "code",
   "execution_count": 17,
   "metadata": {},
   "outputs": [
    {
     "data": {
      "text/html": [
       "<div>\n",
       "<style scoped>\n",
       "    .dataframe tbody tr th:only-of-type {\n",
       "        vertical-align: middle;\n",
       "    }\n",
       "\n",
       "    .dataframe tbody tr th {\n",
       "        vertical-align: top;\n",
       "    }\n",
       "\n",
       "    .dataframe thead th {\n",
       "        text-align: right;\n",
       "    }\n",
       "</style>\n",
       "<table border=\"1\" class=\"dataframe\">\n",
       "  <thead>\n",
       "    <tr style=\"text-align: right;\">\n",
       "      <th></th>\n",
       "      <th>mising_values</th>\n",
       "    </tr>\n",
       "  </thead>\n",
       "  <tbody>\n",
       "    <tr>\n",
       "      <th>sentiment</th>\n",
       "      <td>0</td>\n",
       "    </tr>\n",
       "    <tr>\n",
       "      <th>message</th>\n",
       "      <td>0</td>\n",
       "    </tr>\n",
       "  </tbody>\n",
       "</table>\n",
       "</div>"
      ],
      "text/plain": [
       "           mising_values\n",
       "sentiment              0\n",
       "message                0"
      ]
     },
     "execution_count": 17,
     "metadata": {},
     "output_type": "execute_result"
    }
   ],
   "source": [
    "pd.DataFrame(train_data.isnull().sum(),columns=['mising_values'])"
   ]
  },
  {
   "cell_type": "markdown",
   "metadata": {},
   "source": [
    "- Here we seek to remove any empty strings from the 'message' column."
   ]
  },
  {
   "cell_type": "code",
   "execution_count": 24,
   "metadata": {},
   "outputs": [
    {
     "name": "stdout",
     "output_type": "stream",
     "text": [
      "Length before check:\t15819\n",
      "Length after check:\t15819\n"
     ]
    }
   ],
   "source": [
    "print(f\"Length before check:\\t{len(train_data)}\")\n",
    "\n",
    "blanks = [] # store the indices of the space's tweets\n",
    "\n",
    "for index, sent, mess in train_data.itertuples():\n",
    "    if type(mess)==str:\n",
    "        if mess.isspace():\n",
    "            blanks.append(index)\n",
    "\n",
    "# drop rows from dataframe if there are any empty tweets/strings            \n",
    "train_data.drop(blanks,axis=0,inplace=True)\n",
    "\n",
    "print(f\"Length after check:\\t{len(train_data)}\")"
   ]
  },
  {
   "cell_type": "markdown",
   "metadata": {},
   "source": [
    "As it can be seen from the above, there aren't any np.nan values nor are there any empty strings from the train_data dataframe.\n",
    "What we are going to explore next is if there are any tweets that might not be sufficient in length to form an english sentence (say a tweet with one, two or maybe even three words)."
   ]
  },
  {
   "cell_type": "code",
   "execution_count": 33,
   "metadata": {},
   "outputs": [
    {
     "name": "stdout",
     "output_type": "stream",
     "text": [
      "Number of tweets that might not form an english sentence:\n",
      "      0\n"
     ]
    }
   ],
   "source": [
    "print(f'''Number of tweets that might not form an english sentence:\n",
    "      {len([tweet for tweet in train_data.message if len(tweet)<=5])}''')"
   ]
  },
  {
   "cell_type": "markdown",
   "metadata": {},
   "source": [
    "###### Conclude\n",
    "In this section we managed to import packages, load data, descibe the features and the target variable. We have also managed to look at the head (top five entries) of the dataframes. We have looked at the possibility of empty strings, np.nan values and even tweets (messages) that might not be sufficient enough to form an english sentence that makes sense. After this exploration, we have't performed any transformation on the data.\n",
    "\n",
    "Before we go into any Data transformation or hyperparameter tunning, we fit models with the raw data. Once we have looked at the models before any preprocessing, we will then explore different methods of how we can go about preprocessing our data to better improve the performance of our models."
   ]
  },
  {
   "cell_type": "markdown",
   "metadata": {},
   "source": [
    "# Base Models\n",
    "Train models with minimal data preprocessing.\n",
    "Given the nature of the feature (message column), we will apply the term frequency–inverse document frequency Vectorizer (TfidfVectorizer) to the data so that it can be converted to a matrix of TF-IDF features, which are numerical and a machine learning algorithm can understand.\n",
    "\n",
    "**Models to be trained**:\n",
    "- Logistic Regression\n",
    "- Support Vector Classification (SVC)\n",
    "- Linear SVC\n",
    "- Multinomial Naive Bayes classifier\n",
    "- Random Forest Classifier\n",
    "- Neural Network Sequence model\n",
    "\n",
    "All of the above models will be trained through pipelines.\n",
    "\n",
    "###### task: import packages\n",
    "Import packages that will make the modelling possible."
   ]
  },
  {
   "cell_type": "code",
   "execution_count": 92,
   "metadata": {},
   "outputs": [],
   "source": [
    "from keras import Sequential\n",
    "from keras.utils import to_categorical\n",
    "from keras.callbacks import EarlyStopping\n",
    "from keras.preprocessing.text import Tokenizer\n",
    "from keras.preprocessing.sequence import pad_sequences\n",
    "from sklearn.feature_extraction.text import TfidfVectorizer\n",
    "from keras.layers import Embedding, SpatialDropout1D, LSTM, Dense, Dropout\n",
    "\n",
    "from sklearn.pipeline import Pipeline\n",
    "from sklearn.svm import LinearSVC, SVC\n",
    "from sklearn.naive_bayes import MultinomialNB\n",
    "from sklearn.ensemble import RandomForestClassifier\n",
    "from sklearn.linear_model import LogisticRegression\n",
    "\n",
    "from sklearn.metrics import classification_report,accuracy_score\n",
    "from sklearn.model_selection import train_test_split, GridSearchCV"
   ]
  },
  {
   "cell_type": "markdown",
   "metadata": {},
   "source": [
    "## Split the data\n",
    "Split the train_data into training and testing data. This is to make sure that there isn't any leakage of information when we actually fit the test_data that we imported. To avoid overfitting, we are using the train_data to train and test our models."
   ]
  },
  {
   "cell_type": "code",
   "execution_count": 160,
   "metadata": {},
   "outputs": [],
   "source": [
    "# split into dependent and independent arrays\n",
    "X = train_data['message'].values\n",
    "y = train_data['sentiment'].values\n",
    "\n",
    "# split into training and testing data\n",
    "X_train, X_test, y_train, y_test = train_test_split(X, y, test_size=0.3, random_state=4)"
   ]
  },
  {
   "cell_type": "markdown",
   "metadata": {},
   "source": [
    "## Create pipelines\n",
    "###### task: create pipelines with a vectorizer.\n",
    "The pipelines created here are to be used to train the specified models above. The pipelines will apply the TfidfVectorizer to the training data before it fits the model."
   ]
  },
  {
   "cell_type": "code",
   "execution_count": 161,
   "metadata": {},
   "outputs": [],
   "source": [
    "# SVC pipeline\n",
    "svc_clf = Pipeline([('vectorizer',TfidfVectorizer()),('SVC',SVC())])\n",
    "\n",
    "# LinearSVC pipeline\n",
    "linear_svc_clf = Pipeline([('vectorizer',TfidfVectorizer()),\n",
    "                            ('Linear_SVC',LinearSVC())])\n",
    "\n",
    "# Random Forest Classiffier pipeline\n",
    "random_f_clf = Pipeline([('vectorizer',TfidfVectorizer()),\n",
    "                         ('Random_Forest',RandomForestClassifier())])\n",
    "\n",
    "# MultinomialNB pipeline\n",
    "multinom_clf = Pipeline([('vectorizer',TfidfVectorizer()),('Multinomial',\n",
    "                                                    MultinomialNB())])\n",
    "\n",
    "# logistic Regression pipeline\n",
    "logistic_clf = Pipeline([('vectorizer',TfidfVectorizer()),('Logistic_regr',\n",
    "                                LogisticRegression(multi_class='ovr'))])"
   ]
  },
  {
   "cell_type": "markdown",
   "metadata": {},
   "source": [
    "## Train base models\n",
    "In this section we define functions that tests the five models mentioned above (logistic regression, svc, linear svc, multinomial naive's Bayes, the random classifier and a Neural Network with muliple layers). Once the models are trained, we return a performance dataframe with the weighted average F1 scores as well as the accuracy scores of the models trained. We are interested in the performance of the weighted average f1 score as it adjusts for the precision and the recall scores. The functions will also return the trained models so that they can be used to evaluate other metrices."
   ]
  },
  {
   "cell_type": "code",
   "execution_count": 162,
   "metadata": {},
   "outputs": [],
   "source": [
    "def models_to_train(X_train,X_test,y_train,y_test):\n",
    "    '''\n",
    "    Train models and return a dataframe of their perfomance. The function\n",
    "    also returns the trained models for later use.\n",
    "    \n",
    "    Parameters\n",
    "    ----------\n",
    "    X_train : numpy array\n",
    "        A numpy array of the shape (len(X_train), n), where n is any integer\n",
    "        greater than 0.\n",
    "    X_test : numpy array\n",
    "        A numpy array of the shape (len(X_test), n), where n is any integer\n",
    "        greater than 0.\n",
    "    y_train : numpy array\n",
    "        A numpy array of the shape(len(y_train),), with the values being the\n",
    "        categories or target values.\n",
    "    \n",
    "    y_train : numpy array\n",
    "        A numpy array of the shape(len(y_train),), with the values being the\n",
    "        categories or target values\n",
    "        \n",
    "    Returns\n",
    "    -------\n",
    "    dataframe : pandas.core.frame.DataFrame\n",
    "        A pandas dataframe with two columns; weighted average f1 score and the\n",
    "        accuracy score of each model.\n",
    "    dictionary : dict\n",
    "        A dictionary of all the trained models\n",
    "    '''\n",
    "    \n",
    "    # create a dictionary of all the untrained models\n",
    "    trained_models = {'Logistic_regression':logistic_clf,\n",
    "                      'SVC':svc_clf,'LinearSVC':linear_svc_clf,\n",
    "                      'MultinomialNB':multinom_clf,'Random_Forest':random_f_clf}\n",
    "    \n",
    "    performance = {} # dictionary to store performance\n",
    "    \n",
    "    for name,model in trained_models.items():\n",
    "        \n",
    "        # fit the model\n",
    "        model.fit(X_train, y_train)\n",
    "        \n",
    "        # prediction of y\n",
    "        y_predicted = model.predict(X_test)\n",
    "\n",
    "        # calculate the weighted average score and the accuracy score.\n",
    "        weighted_avg = classification_report(y_test,y_predicted)[-15:-11]\n",
    "        acc_score = accuracy_score(y_test,y_predicted)\n",
    "\n",
    "        performance[name] = {'weighted_average':float(weighted_avg),\n",
    "                            'accuracy_score':round(acc_score,4)}\n",
    "\n",
    "        #print(f\"{name}:\\n{classification_report(y_test,y_predicted)}\\n\")\n",
    "    \n",
    "    # convert the performance dictionary to a dataframe\n",
    "    performance = pd.DataFrame(performance).T.sort_values(by='weighted_average',ascending=False)\n",
    "    \n",
    "    return performance, trained_models"
   ]
  },
  {
   "cell_type": "markdown",
   "metadata": {},
   "source": [
    "The function above trains the logistic regression, svc, linear svc, multinomialNB and the random forest classiffier. The code cell below applies the above defined function:"
   ]
  },
  {
   "cell_type": "code",
   "execution_count": 163,
   "metadata": {},
   "outputs": [],
   "source": [
    "# run the function to train the models\n",
    "performance, trained_models = models_to_train(X_train,X_test,y_train,y_test)"
   ]
  },
  {
   "cell_type": "markdown",
   "metadata": {},
   "source": [
    "###### task: define a neural network function\n",
    "The neural network will use the Sequential method with a maximum number of words of 50000, maximum sequence of 250 and an embedding of 100. The function will first tokenize the data, split it accordingly and then train a Sequencial model. We will be doing a recurrent network. This is done to make sure that there is little to no linearity in the features that are used to train the model. Once the model has been trained, we return a dataframe of the weighted average f1 score as well as the accuracy score. Like the previous function, we will be returning the trained model too so that it can be reused later if need be"
   ]
  },
  {
   "cell_type": "code",
   "execution_count": 164,
   "metadata": {},
   "outputs": [],
   "source": [
    "def sequence_model(df,performance):\n",
    "    '''\n",
    "    Return a dataframe of performance and a trained model.\n",
    "    \n",
    "    Parameters\n",
    "    ----------\n",
    "    df : pandas.core.frame.DataFrame\n",
    "        A pandas dataframe with the columns 'sequence' and 'message'.\n",
    "    \n",
    "    performance : pandas.core.frame.DataFrame\n",
    "        A pandas dataframe with performance metrices for previously\n",
    "        trained models.\n",
    "        \n",
    "    Returns\n",
    "    -------\n",
    "    dataframe : pandas.core.frame.DataFrame\n",
    "        A performance dataframe with the weighted f1 scores and the \n",
    "        accuracy score of each model trained.\n",
    "    keras model : keras.engine.sequential.Sequential\n",
    "        A sequential model that can be used for predictions.\n",
    "    '''\n",
    "    \n",
    "    max_no_words, max_sequence, embedding = 50000, 250, 100\n",
    "\n",
    "    tokenizer = Tokenizer(num_words=max_no_words)\n",
    "    tokenizer.fit_on_texts(df['message'].values)\n",
    "    word_index  = tokenizer.word_index\n",
    "\n",
    "    X = tokenizer.texts_to_sequences(df['message'].values)\n",
    "    X = pad_sequences(X,maxlen=max_sequence)\n",
    "\n",
    "    y = to_categorical(df['sentiment'].values,num_classes=4)\n",
    "\n",
    "    X_train, X_test, y_train, y_test = train_test_split(X, y, test_size=0.3,\n",
    "                                                        random_state=4)\n",
    "    \n",
    "    # instantiate a sequential model.\n",
    "    model = Sequential()\n",
    "    \n",
    "    # add layers to the model\n",
    "    model.add(Embedding(max_no_words,embedding,input_length=X.shape[1]))\n",
    "    model.add(SpatialDropout1D(0.2))\n",
    "    model.add(LSTM(100,dropout=0.2,recurrent_dropout=0.2))\n",
    "    model.add(Dense(4,activation='softmax'))\n",
    "    model.compile(loss='categorical_crossentropy',optimizer='adam',\n",
    "                  metrics=['accuracy'])\n",
    "\n",
    "    # fit the model with 6 epochs of batxh size 50.\n",
    "    model.fit(X_train,y_train,epochs=6,batch_size=50,\n",
    "            callbacks=[EarlyStopping(monitor='val_loss',\n",
    "            patience=3, min_delta=0.0001)],verbose=1,validation_split=0.1)\n",
    "    \n",
    "    # make predictions\n",
    "    y_predicted = model.predict(X_test)\n",
    "    y_predicted = y_predicted.argmax(axis=1)\n",
    "    y_test=y_test.argmax(axis=1)\n",
    "\n",
    "    # calculate performance matrices\n",
    "    weighted_avg = classification_report(y_test,y_predicted)[-15:-11]\n",
    "    acc_score = accuracy_score(y_test,y_predicted)\n",
    "    \n",
    "    model_performance = pd.Series(data={'weighted_average':weighted_avg,\n",
    "                      'accuracy_score':acc_score},name='Sequencial')\n",
    "    \n",
    "    performance = performance.append(model_performance,\n",
    "                                     ignore_index=False).astype('float')\n",
    "    \n",
    "    performance = performance.sort_values(by='weighted_average',ascending=False)\n",
    "    \n",
    "    return performance, model"
   ]
  },
  {
   "cell_type": "markdown",
   "metadata": {},
   "source": [
    "Apply the function above and add the returned model to the trained models dictionary returned by the models_to_train() function."
   ]
  },
  {
   "cell_type": "code",
   "execution_count": 165,
   "metadata": {},
   "outputs": [
    {
     "name": "stdout",
     "output_type": "stream",
     "text": [
      "Train on 9965 samples, validate on 1108 samples\n",
      "Epoch 1/6\n",
      "9965/9965 [==============================] - 171s 17ms/step - loss: 0.9609 - accuracy: 0.6186 - val_loss: 0.7571 - val_accuracy: 0.7094\n",
      "Epoch 2/6\n",
      "9965/9965 [==============================] - 168s 17ms/step - loss: 0.6056 - accuracy: 0.7595 - val_loss: 0.7196 - val_accuracy: 0.7193\n",
      "Epoch 3/6\n",
      "9965/9965 [==============================] - 166s 17ms/step - loss: 0.3437 - accuracy: 0.8696 - val_loss: 0.7718 - val_accuracy: 0.7211\n",
      "Epoch 4/6\n",
      "9965/9965 [==============================] - 171s 17ms/step - loss: 0.1760 - accuracy: 0.9398 - val_loss: 0.8972 - val_accuracy: 0.7229\n",
      "Epoch 5/6\n",
      "9965/9965 [==============================] - 169s 17ms/step - loss: 0.0904 - accuracy: 0.9722 - val_loss: 0.9445 - val_accuracy: 0.7094\n"
     ]
    }
   ],
   "source": [
    "performance, model = sequence_model(train_data,performance)\n",
    "trained_models['Deep_learning'] = model"
   ]
  },
  {
   "cell_type": "markdown",
   "metadata": {},
   "source": [
    "## Performance Evaluation\n",
    "###### task: Visualise the performance of the models\n"
   ]
  },
  {
   "cell_type": "code",
   "execution_count": 169,
   "metadata": {},
   "outputs": [
    {
     "data": {
      "text/html": [
       "<div>\n",
       "<style scoped>\n",
       "    .dataframe tbody tr th:only-of-type {\n",
       "        vertical-align: middle;\n",
       "    }\n",
       "\n",
       "    .dataframe tbody tr th {\n",
       "        vertical-align: top;\n",
       "    }\n",
       "\n",
       "    .dataframe thead th {\n",
       "        text-align: right;\n",
       "    }\n",
       "</style>\n",
       "<table border=\"1\" class=\"dataframe\">\n",
       "  <thead>\n",
       "    <tr style=\"text-align: right;\">\n",
       "      <th></th>\n",
       "      <th>weighted_average</th>\n",
       "      <th>accuracy_score</th>\n",
       "    </tr>\n",
       "  </thead>\n",
       "  <tbody>\n",
       "    <tr>\n",
       "      <th>LinearSVC</th>\n",
       "      <td>0.74</td>\n",
       "      <td>0.750100</td>\n",
       "    </tr>\n",
       "    <tr>\n",
       "      <th>Deep_learning</th>\n",
       "      <td>0.72</td>\n",
       "      <td>0.729035</td>\n",
       "    </tr>\n",
       "    <tr>\n",
       "      <th>SVC</th>\n",
       "      <td>0.70</td>\n",
       "      <td>0.727300</td>\n",
       "    </tr>\n",
       "    <tr>\n",
       "      <th>Logistic_regression</th>\n",
       "      <td>0.69</td>\n",
       "      <td>0.716600</td>\n",
       "    </tr>\n",
       "    <tr>\n",
       "      <th>Random_Forest</th>\n",
       "      <td>0.66</td>\n",
       "      <td>0.696200</td>\n",
       "    </tr>\n",
       "    <tr>\n",
       "      <th>MultinomialNB</th>\n",
       "      <td>0.52</td>\n",
       "      <td>0.619300</td>\n",
       "    </tr>\n",
       "  </tbody>\n",
       "</table>\n",
       "</div>"
      ],
      "text/plain": [
       "                     weighted_average  accuracy_score\n",
       "LinearSVC                        0.74        0.750100\n",
       "Deep_learning                    0.72        0.729035\n",
       "SVC                              0.70        0.727300\n",
       "Logistic_regression              0.69        0.716600\n",
       "Random_Forest                    0.66        0.696200\n",
       "MultinomialNB                    0.52        0.619300"
      ]
     },
     "execution_count": 169,
     "metadata": {},
     "output_type": "execute_result"
    }
   ],
   "source": [
    "performance"
   ]
  },
  {
   "cell_type": "markdown",
   "metadata": {},
   "source": [
    "The accuracy score is consistently above the the weighted average f1 score for all the models that have been trained. This can be attributed to the imbalance in the entries of the sentiment column in the original data. This will however be explored in the nect section as we preprocess our data to try and improve the performance of our model.\n",
    "\n",
    "From the models that we have trained by far, The LinearSVC is currently outperforming all the other models that have been trained on the same data. We will however opt to work on improving the performance of all our models in an attempt to get a model that will perform best."
   ]
  },
  {
   "cell_type": "code",
   "execution_count": 197,
   "metadata": {},
   "outputs": [
    {
     "data": {
      "image/png": "[encoded data removed]",
      "text/plain": [
       "<Figure size 864x432 with 1 Axes>"
      ]
     },
     "metadata": {},
     "output_type": "display_data"
    }
   ],
   "source": [
    "x = list(performance.index)\n",
    "height = [i*100 for i in performance.weighted_average]\n",
    "plt.figure(figsize=(12,6))\n",
    "plt.bar(x,height,label='weighted_avg')\n",
    "plt.bar(x,height=[i*100 for i in performance.accuracy_score],alpha=0.2,label='accuracy')\n",
    "plt.title('Weighted Average F1 score')\n",
    "plt.xlabel('Models')\n",
    "plt.ylabel('Weighted Avg in %')\n",
    "plt.legend()\n",
    "plt.show()"
   ]
  },
  {
   "cell_type": "markdown",
   "metadata": {},
   "source": [
    "# Data Transformation\n",
    "## Performance Evaluation"
   ]
  },
  {
   "cell_type": "markdown",
   "metadata": {},
   "source": [
    "# Hyperparameter Tunning\n",
    "## Performance Evaluation"
   ]
  },
  {
   "cell_type": "markdown",
   "metadata": {},
   "source": [
    "# Model Training"
   ]
  },
  {
   "cell_type": "markdown",
   "metadata": {},
   "source": [
    "# Performance Assessment"
   ]
  },
  {
   "cell_type": "markdown",
   "metadata": {},
   "source": [
    "# Summary & Conclusion"
   ]
  }
 ],
 "metadata": {
  "kernelspec": {
   "display_name": "Python 3",
   "language": "python",
   "name": "python3"
  },
  "language_info": {
   "codemirror_mode": {
    "name": "ipython",
    "version": 3
   },
   "file_extension": ".py",
   "mimetype": "text/x-python",
   "name": "python",
   "nbconvert_exporter": "python",
   "pygments_lexer": "ipython3",
   "version": "3.7.1"
  },
  "toc": {
   "base_numbering": 1,
   "nav_menu": {},
   "number_sections": true,
   "sideBar": true,
   "skip_h1_title": false,
   "title_cell": "Table of Contents",
   "title_sidebar": "Contents",
   "toc_cell": false,
   "toc_position": {},
   "toc_section_display": true,
   "toc_window_display": true
  }
 },
 "nbformat": 4,
 "nbformat_minor": 2
}
